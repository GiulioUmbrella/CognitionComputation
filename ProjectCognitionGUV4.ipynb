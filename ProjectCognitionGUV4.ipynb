{
 "cells": [
  {
   "cell_type": "markdown",
   "id": "6eca8b5a",
   "metadata": {},
   "source": [
    "# CC  Project\n",
    "Giulio Umbrella\n",
    "2021132"
   ]
  },
  {
   "cell_type": "code",
   "execution_count": 1,
   "id": "ed93c658",
   "metadata": {
    "colab": {
     "base_uri": "https://localhost:8080/"
    },
    "executionInfo": {
     "elapsed": 408,
     "status": "ok",
     "timestamp": 1641502947067,
     "user": {
      "displayName": "Giulio Umbrella",
      "photoUrl": "https://lh3.googleusercontent.com/a-/AOh14Ghkswsn_nCMFUs_RThmfPOUphfTID9mm87cF-fi=s64",
      "userId": "09718951047792394415"
     },
     "user_tz": -60
    },
    "id": "ed93c658",
    "outputId": "7988a9a4-2ec1-467c-ff25-f9932888f6af"
   },
   "outputs": [
    {
     "data": {
      "text/plain": [
       "<torch._C.Generator at 0x7fe8f62c2c50>"
      ]
     },
     "execution_count": 1,
     "metadata": {},
     "output_type": "execute_result"
    }
   ],
   "source": [
    "import torch\n",
    "import torch.nn as nn\n",
    "import torch.nn.functional as F\n",
    "import torch.optim as optim\n",
    "\n",
    "import torchvision\n",
    "from torchvision import transforms\n",
    "\n",
    "import matplotlib.pyplot as plt\n",
    "\n",
    "import numpy as np\n",
    "\n",
    "from sklearn.metrics import confusion_matrix\n",
    "from scipy import cluster\n",
    "\n",
    "torch.manual_seed(42)"
   ]
  },
  {
   "cell_type": "markdown",
   "id": "fae8d028",
   "metadata": {
    "id": "fae8d028"
   },
   "source": [
    "## 1 Convolutional autoencoder"
   ]
  },
  {
   "cell_type": "code",
   "execution_count": 2,
   "id": "dbbbb058",
   "metadata": {
    "executionInfo": {
     "elapsed": 407,
     "status": "ok",
     "timestamp": 1641502950656,
     "user": {
      "displayName": "Giulio Umbrella",
      "photoUrl": "https://lh3.googleusercontent.com/a-/AOh14Ghkswsn_nCMFUs_RThmfPOUphfTID9mm87cF-fi=s64",
      "userId": "09718951047792394415"
     },
     "user_tz": -60
    },
    "id": "dbbbb058"
   },
   "outputs": [],
   "source": [
    "# Data import\n",
    "\n",
    "# Transformation\n",
    "transform = transforms.Compose(\n",
    "    [transforms.ToTensor()])\n",
    "\n",
    "data_dir = './DataMINST'\n",
    "# Training set\n",
    "training_set = torchvision.datasets.MNIST(data_dir, train=True, download=True,\n",
    "                                          transform = transform)\n",
    "# Test set\n",
    "test_set = torchvision.datasets.MNIST(data_dir, train=False, download=True,\n",
    "                                         transform = transform)\n"
   ]
  },
  {
   "cell_type": "code",
   "execution_count": 3,
   "id": "d8976c8e",
   "metadata": {},
   "outputs": [],
   "source": [
    "# Normalization\n",
    "training_set.data = (training_set.data.type(torch.FloatTensor)/255)\n",
    "test_set.data = (test_set.data.type(torch.FloatTensor)/255)"
   ]
  },
  {
   "cell_type": "code",
   "execution_count": 4,
   "id": "69241bbd",
   "metadata": {
    "executionInfo": {
     "elapsed": 409,
     "status": "ok",
     "timestamp": 1641502956900,
     "user": {
      "displayName": "Giulio Umbrella",
      "photoUrl": "https://lh3.googleusercontent.com/a-/AOh14Ghkswsn_nCMFUs_RThmfPOUphfTID9mm87cF-fi=s64",
      "userId": "09718951047792394415"
     },
     "user_tz": -60
    },
    "id": "69241bbd"
   },
   "outputs": [],
   "source": [
    "# Define model\n",
    "\n",
    "class ConvAutoencoder(nn.Module):\n",
    "    def __init__(self):\n",
    "        super().__init__()\n",
    "        \n",
    "        self.pool = nn.MaxPool2d(2,return_indices=True)\n",
    "        self.unpool = nn.MaxUnpool2d(2)\n",
    "        \n",
    "        # Encoder\n",
    "        self.enc1 = nn.Conv2d(1, 32, kernel_size = 3, padding =1)\n",
    "        self.enc2 = nn.Conv2d(32, 16, kernel_size = 3, padding =1)\n",
    "        self.fc1 = nn.Linear(7*7*16,80)\n",
    "        self.fc2 = nn.Linear(80,49)\n",
    "        \n",
    "        # Decoder\n",
    "        self.fc3 = nn.Linear(49,80)\n",
    "        self.fc4 = nn.Linear(80, 7*7*16)\n",
    "        self.dec2 = nn.ConvTranspose2d(16, 32 ,kernel_size = 3, padding =1)\n",
    "        self.dec1 = nn.ConvTranspose2d(32,1 ,kernel_size = 3, padding =1)\n",
    "        \n",
    "    def encoder(self, x, rtn_pooling_index = True):\n",
    "        \n",
    "        # Conv\n",
    "        out, con_idx1 = self.pool(torch.tanh(self.enc1(x)))\n",
    "        out, con_idx2 = self.pool(torch.tanh(self.enc2(out)))\n",
    "        # Flattening\n",
    "        out = out.view(-1, 7*7*16 )\n",
    "        # Linear\n",
    "        out = self.fc2(torch.tanh(self.fc1(out)))\n",
    "        if rtn_pooling_index:\n",
    "            return out, con_idx1, con_idx2\n",
    "        else:\n",
    "            return out\n",
    "        \n",
    "    def decoder(self, x,con_idx1, con_idx2):\n",
    "        # Linear\n",
    "        out = self.fc4(torch.tanh(self.fc3(x)))\n",
    "        # Unflattening\n",
    "        out = out.view(-1, 16,7,7)\n",
    "        \n",
    "        # Conv\n",
    "        out = self.dec2(torch.tanh(self.unpool(out,con_idx2)))\n",
    "        out = self.dec1(torch.tanh(self.unpool(out,con_idx1)))\n",
    "        out = F.relu(out)\n",
    "        return out\n",
    "              \n",
    "    def forward(self,x):\n",
    "        out, con_idx1, con_idx2 = self.encoder(x)\n",
    "        out = self.decoder(out,con_idx1, con_idx2)\n",
    "        return out"
   ]
  },
  {
   "cell_type": "code",
   "execution_count": 5,
   "id": "2bef3458",
   "metadata": {
    "executionInfo": {
     "elapsed": 413,
     "status": "ok",
     "timestamp": 1641502960077,
     "user": {
      "displayName": "Giulio Umbrella",
      "photoUrl": "https://lh3.googleusercontent.com/a-/AOh14Ghkswsn_nCMFUs_RThmfPOUphfTID9mm87cF-fi=s64",
      "userId": "09718951047792394415"
     },
     "user_tz": -60
    },
    "id": "2bef3458"
   },
   "outputs": [],
   "source": [
    "# Training loop function\n",
    "def training_loop(n_epochs, optimizer, model, loss_fn ,data):\n",
    "    for epoch in range(n_epochs):\n",
    "        loss_train = 0.0\n",
    "        for imgs in data:\n",
    "                        \n",
    "            # decoder representations\n",
    "            decoded_data = model(imgs)\n",
    "            \n",
    "            # no need for labels - unsupervised learning\n",
    "            loss = loss_fn(decoded_data, imgs)\n",
    "            \n",
    "            # update the parameter\n",
    "            optimizer.zero_grad()\n",
    "            loss.backward()\n",
    "            optimizer.step()\n",
    "            \n",
    "            loss_train += loss.item()\n",
    "            \n",
    "        # function for print values\n",
    "        print('Epoch {}, Training loss {}'.format( epoch, loss_train / len(data)))\n",
    "            "
   ]
  },
  {
   "cell_type": "code",
   "execution_count": 6,
   "id": "ce08ffe8",
   "metadata": {
    "executionInfo": {
     "elapsed": 365,
     "status": "ok",
     "timestamp": 1641502963720,
     "user": {
      "displayName": "Giulio Umbrella",
      "photoUrl": "https://lh3.googleusercontent.com/a-/AOh14Ghkswsn_nCMFUs_RThmfPOUphfTID9mm87cF-fi=s64",
      "userId": "09718951047792394415"
     },
     "user_tz": -60
    },
    "id": "ce08ffe8"
   },
   "outputs": [],
   "source": [
    "# Parameters\n",
    "# con_autoenc = Net().to(device = device)\n",
    "con_autoenc = ConvAutoencoder()\n",
    "loss_fn_con_autoenc = nn.MSELoss()\n",
    "optimizer_con_autoenc = torch.optim.Adam(con_autoenc.parameters(), lr=0.0001)\n",
    "n_epochs_con_autoenc = 5\n",
    "batch_size = 100 "
   ]
  },
  {
   "cell_type": "code",
   "execution_count": 7,
   "id": "8c954f5f",
   "metadata": {
    "colab": {
     "base_uri": "https://localhost:8080/"
    },
    "executionInfo": {
     "elapsed": 1745940,
     "status": "ok",
     "timestamp": 1641504714823,
     "user": {
      "displayName": "Giulio Umbrella",
      "photoUrl": "https://lh3.googleusercontent.com/a-/AOh14Ghkswsn_nCMFUs_RThmfPOUphfTID9mm87cF-fi=s64",
      "userId": "09718951047792394415"
     },
     "user_tz": -60
    },
    "id": "8c954f5f",
    "outputId": "dbd1401b-b17f-4d8f-e8c0-d2f0528ecd57"
   },
   "outputs": [
    {
     "name": "stdout",
     "output_type": "stream",
     "text": [
      "Epoch 0, Training loss 0.04638121568908294\n",
      "Epoch 1, Training loss 0.012160601750171434\n",
      "Epoch 2, Training loss 0.008056282233446836\n",
      "Epoch 3, Training loss 0.005989626639833053\n",
      "Epoch 4, Training loss 0.004738199969287962\n"
     ]
    }
   ],
   "source": [
    "ts_split = torch.split(training_set.data, 100)\n",
    "for i in ts_split:\n",
    "    i.unsqueeze_(1)\n",
    "\n",
    "# input image size 1,28,28    \n",
    "    \n",
    "# Train the model\n",
    "training_loop(\n",
    "            n_epochs = n_epochs_con_autoenc,\n",
    "            optimizer = optimizer_con_autoenc,\n",
    "            model = con_autoenc,\n",
    "            loss_fn = loss_fn_con_autoenc,\n",
    "            data = ts_split)"
   ]
  },
  {
   "cell_type": "code",
   "execution_count": 8,
   "id": "7e307181",
   "metadata": {},
   "outputs": [],
   "source": [
    "# Save autoencoder\n",
    "# torch.save(con_autoenc.state_dict(), 'SavedModels/' + 'autoencoder.pt')"
   ]
  },
  {
   "cell_type": "code",
   "execution_count": null,
   "id": "8a2fe214",
   "metadata": {},
   "outputs": [],
   "source": [
    "# Load autoencoder\n",
    "con_autoenc = ConvAutoencoder()\n",
    "con_autoenc.load_state_dict(torch.load('SavedModels/' + 'autoencoder.pt'))"
   ]
  },
  {
   "cell_type": "code",
   "execution_count": 9,
   "id": "04469025",
   "metadata": {},
   "outputs": [
    {
     "data": {
      "text/plain": [
       "Text(0.5, 1.0, 'Reconstructed 0')"
      ]
     },
     "execution_count": 9,
     "metadata": {},
     "output_type": "execute_result"
    },
    {
     "data": {
      "image/png": "[encoded data removed]",
      "text/plain": [
       "<Figure size 720x504 with 2 Axes>"
      ]
     },
     "metadata": {
      "needs_background": "light"
     },
     "output_type": "display_data"
    }
   ],
   "source": [
    "idx = 10\n",
    "\n",
    "img_original = test_set.data[idx]\n",
    "img_reconstructed= con_autoenc(test_set.data[idx].view(1,1,28,28)).squeeze(0).squeeze(0).detach().numpy()\n",
    "\n",
    "\n",
    "fig = plt.figure(figsize=(10, 7))\n",
    "rows = 1\n",
    "columns = 2\n",
    "\n",
    "# Adds a subplot at the 1st position\n",
    "fig.add_subplot(rows, columns, 1)\n",
    "  \n",
    "# showing image\n",
    "plt.imshow(img_original, cmap = 'gray')\n",
    "plt.axis('off')\n",
    "plt.title(\"Original \" + format(test_set.targets[idx]) )\n",
    "  \n",
    "# Adds a subplot at the 2nd position\n",
    "fig.add_subplot(rows, columns, 2)\n",
    "  \n",
    "# showing image\n",
    "plt.imshow(img_reconstructed, cmap = 'gray')\n",
    "plt.axis('off')\n",
    "plt.title(\"Reconstructed \" + format(test_set.targets[idx]) )"
   ]
  },
  {
   "cell_type": "code",
   "execution_count": 10,
   "id": "3fd9013a",
   "metadata": {},
   "outputs": [
    {
     "data": {
      "image/png": "[encoded data removed]",
      "text/plain": [
       "<Figure size 720x720 with 32 Axes>"
      ]
     },
     "metadata": {
      "needs_background": "light"
     },
     "output_type": "display_data"
    }
   ],
   "source": [
    "# PRINT WEIGHTS FIRST LAYER\n",
    "# apply a threshold on the values\n",
    "fig = plt.figure(figsize=(10, 10))\n",
    "rows = 6\n",
    "columns = 6\n",
    "threshold = 0.1\n",
    "\n",
    "for i in range(32):\n",
    "    fig.add_subplot(rows, columns, i+1)\n",
    "    x = con_autoenc.enc1.weight[i].squeeze(0)\n",
    "    x = x*(abs(x) > threshold)\n",
    "    x = x.detach().numpy()\n",
    "    plt.imshow(x, cmap = 'gray')\n",
    "    plt.axis('off')\n"
   ]
  },
  {
   "cell_type": "code",
   "execution_count": null,
   "id": "7eb3163e",
   "metadata": {},
   "outputs": [],
   "source": [
    "# WIP PRINT WEIGHT SECOND LAYER\n",
    "# Attenzioe, qui abbiamo molti piu' layers\n",
    "con_autoenc.enc2.weight.shape"
   ]
  },
  {
   "cell_type": "markdown",
   "id": "e939d51c",
   "metadata": {
    "id": "e939d51c"
   },
   "source": [
    "## 2 Linear read-out"
   ]
  },
  {
   "cell_type": "code",
   "execution_count": 11,
   "id": "c12ffca2",
   "metadata": {
    "executionInfo": {
     "elapsed": 409,
     "status": "ok",
     "timestamp": 1641504724009,
     "user": {
      "displayName": "Giulio Umbrella",
      "photoUrl": "https://lh3.googleusercontent.com/a-/AOh14Ghkswsn_nCMFUs_RThmfPOUphfTID9mm87cF-fi=s64",
      "userId": "09718951047792394415"
     },
     "user_tz": -60
    },
    "id": "c12ffca2"
   },
   "outputs": [],
   "source": [
    "# define linear model\n",
    "\n",
    "class Perceptron(torch.nn.Module):\n",
    "    def __init__(self,encoded_layer_size):\n",
    "        super().__init__()\n",
    "        self.linear = torch.nn.Linear(encoded_layer_size, 10)\n",
    "\n",
    "    def forward(self, x):\n",
    "        output = self.linear(x)\n",
    "        if output.shape == torch.Size([10]):\n",
    "            output.unsqueeze_(0)\n",
    "        \n",
    "        return output"
   ]
  },
  {
   "cell_type": "code",
   "execution_count": 12,
   "id": "0ae820ab",
   "metadata": {
    "executionInfo": {
     "elapsed": 3,
     "status": "ok",
     "timestamp": 1641504727557,
     "user": {
      "displayName": "Giulio Umbrella",
      "photoUrl": "https://lh3.googleusercontent.com/a-/AOh14Ghkswsn_nCMFUs_RThmfPOUphfTID9mm87cF-fi=s64",
      "userId": "09718951047792394415"
     },
     "user_tz": -60
    },
    "id": "0ae820ab"
   },
   "outputs": [],
   "source": [
    "# Freeze all the parameters in the convolutional autoencoder\n",
    "for param in con_autoenc.parameters():\n",
    "    param.requires_grad = False"
   ]
  },
  {
   "cell_type": "code",
   "execution_count": 13,
   "id": "8e445dcd",
   "metadata": {
    "id": "8e445dcd"
   },
   "outputs": [],
   "source": [
    "# Encoded representation of data\n",
    "encoded_training_set  = con_autoenc.encoder(training_set.data.unsqueeze(1),False)\n"
   ]
  },
  {
   "cell_type": "code",
   "execution_count": 14,
   "id": "6b6d069f",
   "metadata": {
    "colab": {
     "base_uri": "https://localhost:8080/"
    },
    "executionInfo": {
     "elapsed": 23870,
     "status": "ok",
     "timestamp": 1641502240420,
     "user": {
      "displayName": "Giulio Umbrella",
      "photoUrl": "https://lh3.googleusercontent.com/a-/AOh14Ghkswsn_nCMFUs_RThmfPOUphfTID9mm87cF-fi=s64",
      "userId": "09718951047792394415"
     },
     "user_tz": -60
    },
    "id": "6b6d069f",
    "outputId": "df641e9e-fabf-45a1-d35b-cdd0880b4410"
   },
   "outputs": [
    {
     "name": "stdout",
     "output_type": "stream",
     "text": [
      "epoch : 100/1000, loss = 1.774677\n",
      "epoch : 200/1000, loss = 1.446412\n",
      "epoch : 300/1000, loss = 1.235622\n",
      "epoch : 400/1000, loss = 1.092650\n",
      "epoch : 500/1000, loss = 0.990198\n",
      "epoch : 600/1000, loss = 0.913356\n",
      "epoch : 700/1000, loss = 0.853577\n",
      "epoch : 800/1000, loss = 0.805678\n",
      "epoch : 900/1000, loss = 0.766391\n",
      "epoch : 1000/1000, loss = 0.733524\n"
     ]
    }
   ],
   "source": [
    "# Train linear model from the reconstruction\n",
    "perceptron = Perceptron(49)\n",
    "optimizer_perceptron = optim.Adam(perceptron.parameters(), lr=0.001)\n",
    "loss_fn_perceptron = nn.CrossEntropyLoss()\n",
    "epochs_perceptron = 1000\n",
    "\n",
    "for epoch in range(1,epochs_perceptron+1): \n",
    "\n",
    "    perceptor_predictions = perceptron(encoded_training_set)\n",
    "    loss_perceptron = loss_fn_perceptron(perceptor_predictions, training_set.targets)\n",
    "\n",
    "    optimizer_perceptron.zero_grad()\n",
    "    loss_perceptron.backward()\n",
    "    optimizer_perceptron.step()\n",
    "\n",
    "    if epoch % 100 == 0:\n",
    "        print(\"epoch : {}/{}, loss = {:.6f}\".format(epoch, epochs_perceptron, loss_perceptron))"
   ]
  },
  {
   "cell_type": "code",
   "execution_count": 15,
   "id": "b06234d3",
   "metadata": {},
   "outputs": [],
   "source": [
    "# Save perceptron\n",
    "# torch.save(perceptron.state_dict(), 'SavedModels/' + 'perceptron.pt')"
   ]
  },
  {
   "cell_type": "code",
   "execution_count": 16,
   "id": "32a98857",
   "metadata": {},
   "outputs": [
    {
     "data": {
      "text/plain": [
       "<All keys matched successfully>"
      ]
     },
     "execution_count": 16,
     "metadata": {},
     "output_type": "execute_result"
    }
   ],
   "source": [
    "# Load autoencoder\n",
    "perceptron = Perceptron(49)\n",
    "perceptron.load_state_dict(torch.load('SavedModels/' + 'perceptron.pt'))\n"
   ]
  },
  {
   "cell_type": "code",
   "execution_count": 17,
   "id": "42525b93",
   "metadata": {},
   "outputs": [],
   "source": [
    "def compute_accuracy(predictions, targets):\n",
    "    predictions_indice = predictions.max(axis=1).indices\n",
    "    accuracy = (predictions_indice == targets ).sum() / len(targets)\n",
    "    return accuracy"
   ]
  },
  {
   "cell_type": "code",
   "execution_count": 18,
   "id": "2024ac96",
   "metadata": {
    "executionInfo": {
     "elapsed": 1912,
     "status": "ok",
     "timestamp": 1641502247583,
     "user": {
      "displayName": "Giulio Umbrella",
      "photoUrl": "https://lh3.googleusercontent.com/a-/AOh14Ghkswsn_nCMFUs_RThmfPOUphfTID9mm87cF-fi=s64",
      "userId": "09718951047792394415"
     },
     "user_tz": -60
    },
    "id": "2024ac96"
   },
   "outputs": [
    {
     "name": "stdout",
     "output_type": "stream",
     "text": [
      "Test set accuracy:  tensor(0.8200)\n"
     ]
    }
   ],
   "source": [
    "# Encode validation set features\n",
    "encoded_test_set = con_autoenc.encoder(test_set.data.unsqueeze(1),False)\n",
    "prediction_test_set = perceptron(encoded_test_set)\n",
    "\n",
    "test_set_accuracy = compute_accuracy(prediction_test_set, test_set.targets)\n",
    "print(\"Test set accuracy: \", test_set_accuracy)"
   ]
  },
  {
   "cell_type": "code",
   "execution_count": 19,
   "id": "497f470f",
   "metadata": {},
   "outputs": [
    {
     "data": {
      "text/plain": [
       "array([[ 900,    1,    3,   15,    1,    9,   15,    4,   30,    2],\n",
       "       [   0, 1085,    7,    7,    0,    1,    4,    0,   31,    0],\n",
       "       [  18,    7,  837,   32,   31,   19,   41,   16,   27,    4],\n",
       "       [   5,   20,   59,  754,    1,   58,    6,   34,   57,   16],\n",
       "       [   3,    5,    5,    0,  812,    2,   13,    6,   11,  125],\n",
       "       [  14,   21,   29,  142,   28,  565,   15,   15,   48,   15],\n",
       "       [   7,   21,   29,    1,   13,   17,  862,    0,    8,    0],\n",
       "       [   3,   24,   12,    7,   15,    1,    0,  855,   21,   90],\n",
       "       [  15,   37,    9,   63,   16,   55,   21,   29,  716,   13],\n",
       "       [  11,   17,    5,   15,   63,    4,    0,   55,   25,  814]])"
      ]
     },
     "execution_count": 19,
     "metadata": {},
     "output_type": "execute_result"
    }
   ],
   "source": [
    "# Confusion matrix\n",
    "y_true = test_set.targets\n",
    "y_pred = prediction_test_set.max(axis=1).indices.detach().numpy()\n",
    "\n",
    "confusion_matrix(y_true, y_pred)"
   ]
  },
  {
   "cell_type": "code",
   "execution_count": 20,
   "id": "351ae5cf",
   "metadata": {},
   "outputs": [],
   "source": [
    "# Perform linkage clustering and computee the dendogram \n",
    "def plot_dendrogram(mean_repr_matrix, dist_measure, title=\"\"):\n",
    "    fig, ax = plt.subplots()\n",
    "    linkage = cluster.hierarchy.linkage(mean_repr_matrix, method = dist_measure)  # we run the clustering algorithm here\n",
    "    dendrogram = cluster.hierarchy.dendrogram(linkage)\n",
    "    ax.set_title(title + \" with \" + dist_measure +' distance measure')"
   ]
  },
  {
   "cell_type": "code",
   "execution_count": 21,
   "id": "2e7cd1f7",
   "metadata": {},
   "outputs": [],
   "source": [
    "# Compute the 'average' encoded digit \n",
    "avg_encoded_list = []\n",
    "\n",
    "for label in range(10):\n",
    "    avg_encoded = encoded_training_set[ training_set.targets == label].mean(axis=0)\n",
    "    avg_encoded = avg_encoded.detach().numpy()\n",
    "    avg_encoded_list.append(avg_encoded)"
   ]
  },
  {
   "cell_type": "code",
   "execution_count": 22,
   "id": "b3de6c05",
   "metadata": {},
   "outputs": [
    {
     "data": {
      "image/png": "[encoded data removed]",
      "text/plain": [
       "<Figure size 432x288 with 1 Axes>"
      ]
     },
     "metadata": {
      "needs_background": "light"
     },
     "output_type": "display_data"
    }
   ],
   "source": [
    "plot_dendrogram(avg_encoded_list, 'complete' ,\"Encoded value clustering\")"
   ]
  },
  {
   "cell_type": "code",
   "execution_count": 23,
   "id": "16ba2e0d",
   "metadata": {},
   "outputs": [
    {
     "data": {
      "image/png": "[encoded data removed]",
      "text/plain": [
       "<Figure size 432x288 with 1 Axes>"
      ]
     },
     "metadata": {
      "needs_background": "light"
     },
     "output_type": "display_data"
    }
   ],
   "source": [
    "plot_dendrogram(avg_encoded_list, 'single' ,\"Encoded value clustering\")"
   ]
  },
  {
   "cell_type": "code",
   "execution_count": 24,
   "id": "1d34fb79",
   "metadata": {},
   "outputs": [
    {
     "data": {
      "image/png": "[encoded data removed]",
      "text/plain": [
       "<Figure size 720x720 with 10 Axes>"
      ]
     },
     "metadata": {
      "needs_background": "light"
     },
     "output_type": "display_data"
    }
   ],
   "source": [
    "# Plot perceptron\n",
    "for par in perceptron.parameters():\n",
    "    x = par\n",
    "    break\n",
    "\n",
    "fig = plt.figure(figsize=(10, 10))\n",
    "rows = 3\n",
    "columns = 4\n",
    "\n",
    "for i in range(10):\n",
    "    fig.add_subplot(rows, columns, i+1)\n",
    "    plt.imshow(x[i].view(7,7).detach().numpy(), cmap = 'gray')\n",
    "    plt.title(str(i))\n",
    "    plt.axis('off')\n"
   ]
  },
  {
   "cell_type": "markdown",
   "id": "7c33d209",
   "metadata": {},
   "source": [
    "## 3 Transfer learning Fashion MINST"
   ]
  },
  {
   "cell_type": "code",
   "execution_count": 58,
   "id": "45219988",
   "metadata": {},
   "outputs": [],
   "source": [
    "# Load fashion MINST\n",
    "\n",
    "# Transformation\n",
    "transform = transforms.Compose(\n",
    "    [transforms.ToTensor()])\n",
    "\n",
    "data_dir = './DataFashionMNIST'\n",
    "# Training set\n",
    "training_set_FM = torchvision.datasets.FashionMNIST(data_dir, train=True, download=True,\n",
    "                                          transform = transform)\n",
    "# Test set\n",
    "test_set_FM = torchvision.datasets.FashionMNIST(data_dir, train=False, download=True,\n",
    "                                         transform = transform)\n"
   ]
  },
  {
   "cell_type": "code",
   "execution_count": 59,
   "id": "481306d5",
   "metadata": {},
   "outputs": [],
   "source": [
    "# Normalization\n",
    "training_set_FM.data = (training_set_FM.data.type(torch.FloatTensor)/255)\n",
    "test_set_FM.data = (test_set_FM.data.type(torch.FloatTensor)/255)"
   ]
  },
  {
   "cell_type": "code",
   "execution_count": 60,
   "id": "0fcd7b06",
   "metadata": {},
   "outputs": [],
   "source": [
    "# Encode fashion MINST \n",
    "encoded_training_set_FM= con_autoenc.encoder(training_set_FM.data.unsqueeze(1),False)"
   ]
  },
  {
   "cell_type": "code",
   "execution_count": 64,
   "id": "de5e6353",
   "metadata": {},
   "outputs": [
    {
     "name": "stdout",
     "output_type": "stream",
     "text": [
      "epoch : 100/1000, loss = 1.729632\n",
      "epoch : 200/1000, loss = 1.401522\n",
      "epoch : 300/1000, loss = 1.219828\n",
      "epoch : 400/1000, loss = 1.106994\n",
      "epoch : 500/1000, loss = 1.031035\n",
      "epoch : 600/1000, loss = 0.976623\n",
      "epoch : 700/1000, loss = 0.935719\n",
      "epoch : 800/1000, loss = 0.903752\n",
      "epoch : 900/1000, loss = 0.877995\n",
      "epoch : 1000/1000, loss = 0.856709\n"
     ]
    }
   ],
   "source": [
    "# Train linear model for fashion MINST \n",
    "\n",
    "perceptron_FM = Perceptron(49)\n",
    "optimizer_perceptron_FM = optim.Adam(perceptron_FM.parameters(), lr=0.001)\n",
    "loss_fn_perceptron_FM = nn.CrossEntropyLoss()\n",
    "epochs_perceptron_FM = 1000\n",
    "\n",
    "for epoch in range(1,epochs_perceptron_FM+1): \n",
    "\n",
    "    perceptor_predictions_FM = perceptron_FM(encoded_training_set_FM).squeeze()\n",
    "    loss_perceptron_FM = loss_fn_perceptron_FM(perceptor_predictions_FM, training_set_FM.targets)\n",
    "\n",
    "    optimizer_perceptron_FM.zero_grad()\n",
    "    loss_perceptron_FM.backward()\n",
    "    optimizer_perceptron_FM.step()\n",
    "    \n",
    "    if epoch % 100 == 0:\n",
    "        print(\"epoch : {}/{}, loss = {:.6f}\".format(epoch, epochs_perceptron_FM, loss_perceptron_FM))"
   ]
  },
  {
   "cell_type": "code",
   "execution_count": 69,
   "id": "ac26bcb1",
   "metadata": {},
   "outputs": [
    {
     "name": "stdout",
     "output_type": "stream",
     "text": [
      "Validation set accuracy:  tensor(0.7053)\n"
     ]
    }
   ],
   "source": [
    "# Validation perceptron accuracy\n",
    "encoded_test_set_FM  = con_autoenc.encoder(test_set_FM.data.unsqueeze(1),False)\n",
    "prediction_test_set_FM = perceptron_FM(encoded_test_set_FM)\n",
    "\n",
    "test_set_accuracy_FM = compute_accuracy(prediction_test_set_FM, test_set_FM.targets)\n",
    "print(\"Validation set accuracy: \",test_set_accuracy_FM)"
   ]
  },
  {
   "cell_type": "markdown",
   "id": "4854f41c",
   "metadata": {},
   "source": [
    "## 4 FFN Feed forward network"
   ]
  },
  {
   "cell_type": "code",
   "execution_count": 37,
   "id": "a71de390",
   "metadata": {},
   "outputs": [],
   "source": [
    "# Define a FFN for the MINST database\n",
    "class Feedforward(torch.nn.Module):\n",
    "    def __init__(self, first_hidden_layer_size):\n",
    "        super().__init__()\n",
    "        self.first_hidden = torch.nn.Linear(784, first_hidden_layer_size)\n",
    "        self.output = torch.nn.Linear(first_hidden_layer_size, 10)\n",
    "\n",
    "    def forward(self, x):\n",
    "        x = x.view(-1, 28*28)\n",
    "        first_hidden_repr = F.relu(self.first_hidden(x))\n",
    "        output = self.output(first_hidden_repr)\n",
    "        return output"
   ]
  },
  {
   "cell_type": "markdown",
   "id": "9cdd5057",
   "metadata": {},
   "source": [
    "**NB** Metto il valore a 288 perche' e' il numero di paremetri del primo layer del convolutional autoencoder"
   ]
  },
  {
   "cell_type": "code",
   "execution_count": 38,
   "id": "f10e9e94",
   "metadata": {},
   "outputs": [
    {
     "name": "stdout",
     "output_type": "stream",
     "text": [
      "epoch 10/100, loss = 2.206591\n",
      "epoch 20/100, loss = 2.092563\n",
      "epoch 30/100, loss = 1.956394\n",
      "epoch 40/100, loss = 1.798898\n",
      "epoch 50/100, loss = 1.629446\n",
      "epoch 60/100, loss = 1.461572\n",
      "epoch 70/100, loss = 1.307171\n",
      "epoch 80/100, loss = 1.173002\n",
      "epoch 90/100, loss = 1.060429\n",
      "epoch 100/100, loss = 0.967586\n"
     ]
    }
   ],
   "source": [
    "# Train the FFN\n",
    "hidden_layer_size = 288\n",
    "ffn = Feedforward(288)\n",
    "\n",
    "optimizer_ffn = optim.SGD(ffn.parameters(), lr=0.05)\n",
    "loss_fn_ffn = nn.CrossEntropyLoss()\n",
    "epochs_fnn = 100\n",
    "\n",
    "for epoch in range(1, epochs_fnn+1):\n",
    "    \n",
    "    predictions_ffn = ffn(training_set.data)\n",
    "    loss_ffn = loss_fn_ffn(predictions_ffn, training_set.targets)\n",
    "    \n",
    "    optimizer_ffn.zero_grad()\n",
    "    loss_ffn.backward()\n",
    "    optimizer_ffn.step()\n",
    "    if epoch % 10 == 0:\n",
    "        print(\"epoch {}/{}, loss = {:.6f}\".format(epoch, epochs_fnn, loss_ffn))\n"
   ]
  },
  {
   "cell_type": "code",
   "execution_count": 40,
   "id": "3ec18b3c",
   "metadata": {},
   "outputs": [],
   "source": [
    "# Save FFN\n",
    "# torch.save(ffn.state_dict(), 'SavedModels/' + 'FFN.pt')"
   ]
  },
  {
   "cell_type": "code",
   "execution_count": 32,
   "id": "b0c0c40b",
   "metadata": {},
   "outputs": [
    {
     "data": {
      "text/plain": [
       "<All keys matched successfully>"
      ]
     },
     "execution_count": 32,
     "metadata": {},
     "output_type": "execute_result"
    }
   ],
   "source": [
    "# Load FFN\n",
    "ffn = Feedforward(288)\n",
    "ffn.load_state_dict(torch.load('SavedModels/' + 'FFN.pt'))"
   ]
  },
  {
   "cell_type": "code",
   "execution_count": 39,
   "id": "f38f691f",
   "metadata": {},
   "outputs": [
    {
     "name": "stdout",
     "output_type": "stream",
     "text": [
      "Validation set accuracy feed forward network:  tensor(0.8308)\n"
     ]
    }
   ],
   "source": [
    "# Accuracy on validation set \n",
    "prediction_test_ffn = ffn(test_set.data)\n",
    "test_set_accuracy_ffn = compute_accuracy(prediction_test_ffn, test_set.targets)\n",
    "print(\"Validation set accuracy feed forward network: \", test_set_accuracy_ffn)"
   ]
  },
  {
   "cell_type": "code",
   "execution_count": 41,
   "id": "c0ce69b2",
   "metadata": {},
   "outputs": [
    {
     "data": {
      "text/plain": [
       "array([[ 934,    0,    4,    3,    1,    5,   24,    1,    8,    0],\n",
       "       [   0, 1105,    8,    4,    0,    0,    3,    0,   14,    1],\n",
       "       [  23,   40,  826,   30,   22,    0,   31,   21,   38,    1],\n",
       "       [   5,    9,   27,  887,    1,   11,    7,   25,   32,    6],\n",
       "       [   3,   15,    6,    1,  839,    0,   22,    3,   14,   79],\n",
       "       [  40,   35,   18,  179,   24,  470,   40,   15,   44,   27],\n",
       "       [  26,   15,   22,    1,    7,   14,  866,    0,    7,    0],\n",
       "       [   7,   54,   24,    0,   10,    0,    1,  893,    7,   32],\n",
       "       [  21,   35,   14,   82,   11,    9,   29,   18,  724,   31],\n",
       "       [  17,   17,    6,   13,  109,    3,    3,   63,   14,  764]])"
      ]
     },
     "execution_count": 41,
     "metadata": {},
     "output_type": "execute_result"
    }
   ],
   "source": [
    "# Confusion matrix\n",
    "y_true = test_set.targets\n",
    "y_pred = prediction_test_ffn.max(axis=1).indices.detach().numpy()\n",
    "\n",
    "confusion_matrix(y_true, y_pred)"
   ]
  },
  {
   "cell_type": "markdown",
   "id": "a1920fcc",
   "metadata": {},
   "source": [
    "## 5 Robustness to noise"
   ]
  },
  {
   "cell_type": "code",
   "execution_count": 42,
   "id": "fe3598cd",
   "metadata": {},
   "outputs": [],
   "source": [
    "# Function to insert noise\n",
    "def inject_noise(mnist_data, noise_level):\n",
    "    random_gaussian_tensor = torch.randn(mnist_data.shape)/6.6 + .6  \n",
    "    probability_tensor = torch.ones(mnist_data.shape)*noise_level\n",
    "    mask_tensor = torch.bernoulli(probability_tensor)\n",
    "    return mnist_data - mask_tensor * mnist_data + mask_tensor * random_gaussian_tensor\n"
   ]
  },
  {
   "cell_type": "code",
   "execution_count": 46,
   "id": "89cdff0f",
   "metadata": {},
   "outputs": [],
   "source": [
    "noise_levels = [0, 0.1, 0.2, 0.3, 0.4, 0.5, 0.6, 0.7, 0.8]\n",
    "\n",
    "perceptron_accuracies = []\n",
    "ffn_accuracies = []\n",
    "\n",
    "for noise_level in noise_levels:\n",
    "    # get noisy dataset\n",
    "    mnist_test_with_noise = inject_noise(test_set.data, noise_level)\n",
    "    \n",
    "    # compute perceptron predictions\n",
    "    encoded_test_set_noisy, _, _  = con_autoenc.encoder(mnist_test_with_noise.unsqueeze(1))\n",
    "    predictions_perceptron_noisy = perceptron(encoded_test_set_noisy)\n",
    "    perceptron_accuracies.append(compute_accuracy(predictions_perceptron_noisy, test_set.targets))\n",
    "    \n",
    "    # compute ffn predictions\n",
    "    predictions_ffn_noisy = ffn(mnist_test_with_noise.view(-1,28*28))\n",
    "    ffn_accuracies.append(compute_accuracy(predictions_ffn_noisy, test_set.targets))\n",
    "    "
   ]
  },
  {
   "cell_type": "code",
   "execution_count": 47,
   "id": "57d32317",
   "metadata": {},
   "outputs": [
    {
     "data": {
      "text/plain": [
       "<matplotlib.legend.Legend at 0x7fe5f1b17e80>"
      ]
     },
     "execution_count": 47,
     "metadata": {},
     "output_type": "execute_result"
    },
    {
     "data": {
      "image/png": "[encoded data removed]",
      "text/plain": [
       "<Figure size 432x288 with 1 Axes>"
      ]
     },
     "metadata": {
      "needs_background": "light"
     },
     "output_type": "display_data"
    }
   ],
   "source": [
    "# Plot\n",
    "fig, ax = plt.subplots()\n",
    "ax.plot(range(len(noise_levels)), perceptron_accuracies)\n",
    "ax.plot(range(len(noise_levels)), ffn_accuracies)\n",
    "\n",
    "ax.set_title(\"Robustness to noise\")\n",
    "ax.set_xlabel(\"Noise level (%)\")\n",
    "ax.set_ylabel(\"Accuracy\")\n",
    "plt.xticks(range(len(noise_levels)), [int(l*100) for l in noise_levels])\n",
    "plt.legend([\"Perceptron\", \"FFNN\"])"
   ]
  },
  {
   "cell_type": "markdown",
   "id": "fbe67cad",
   "metadata": {},
   "source": [
    "## 6 Adversarial Learning"
   ]
  },
  {
   "cell_type": "code",
   "execution_count": 48,
   "id": "f455ead1",
   "metadata": {},
   "outputs": [],
   "source": [
    "# Freeze all the parameters in the convolutional autoencoder\n",
    "for param in perceptron.parameters():\n",
    "    param.requires_grad = False"
   ]
  },
  {
   "cell_type": "code",
   "execution_count": 49,
   "id": "bccd352f",
   "metadata": {},
   "outputs": [],
   "source": [
    "def fgsm_attack(image, epsilon, data_grad, clamping):\n",
    "    # Collect the element-wise sign of the data gradient\n",
    "    sign_data_grad = data_grad.sign()\n",
    "\n",
    "    # Create the perturbed image by adjusting each pixel of the input image\n",
    "    perturbed_image = image + epsilon* sign_data_grad\n",
    "\n",
    "    # Adding clipping to maintain [0,1] range\n",
    "    if clamping == True:\n",
    "        perturbed_image = torch.clamp(perturbed_image, 0, 1)\n",
    "    \n",
    "    # Return the perturbed image\n",
    "    return perturbed_image"
   ]
  },
  {
   "cell_type": "code",
   "execution_count": 50,
   "id": "8aa51782",
   "metadata": {},
   "outputs": [],
   "source": [
    "def test_robustness_to_attack(model, loss_fn, images, labels, epsilon, clamping):\n",
    "    \n",
    "    num_correct = 0\n",
    "    num_test = 0\n",
    "    \n",
    "    for image, label in zip(images, labels):\n",
    "        \n",
    "        image.requires_grad = True  \n",
    "        \n",
    "        output = model(image)\n",
    "        \n",
    "        init_pred = torch.argmax(output)\n",
    "        \n",
    "        if init_pred.item() != label.item():\n",
    "            continue\n",
    "                \n",
    "        loss = F.nll_loss(output, label)\n",
    "        \n",
    "        model.zero_grad()\n",
    "        loss.backward()\n",
    "        data_grad = image.grad.data  # collect the gradient of the input data\n",
    "        \n",
    "        perturbed_image = fgsm_attack(image, epsilon, data_grad,clamping)\n",
    "\n",
    "        # Re-classify the perturbed image\n",
    "        output = model(perturbed_image)\n",
    "        \n",
    "        # Check for success\n",
    "        # get the index of the max element in the output\n",
    "        final_pred = output.max(1, keepdim=True)[1]\n",
    "        \n",
    "        if final_pred.item() == label.item():\n",
    "            num_correct += 1\n",
    "            \n",
    "        num_test += 1\n",
    "\n",
    "    # Calculate final accuracy for this epsilon\n",
    "    final_acc = num_correct/float(num_test)\n",
    "\n",
    "    return final_acc"
   ]
  },
  {
   "cell_type": "code",
   "execution_count": 51,
   "id": "7ef8504e",
   "metadata": {},
   "outputs": [],
   "source": [
    "epsilon_values = [0, .05, .1, .15, .2, .25]"
   ]
  },
  {
   "cell_type": "code",
   "execution_count": 52,
   "id": "53cbb250",
   "metadata": {},
   "outputs": [],
   "source": [
    "# Prepare the input for the robustness test\n",
    "loss_ffn = nn.CrossEntropyLoss()\n",
    "accuracies_ffnn = []\n",
    "\n",
    "for epsilon in epsilon_values:\n",
    "    accuracy = test_robustness_to_attack(ffn, loss_ffn, test_set.data.unsqueeze(1), \n",
    "                                         test_set.targets.unsqueeze(1),epsilon,True)\n",
    "    accuracies_ffnn.append(accuracy)\n",
    "\n",
    "\n"
   ]
  },
  {
   "cell_type": "code",
   "execution_count": 53,
   "id": "1f3c75cf",
   "metadata": {},
   "outputs": [],
   "source": [
    "# Encode the test set\n",
    "encoded_test_set  = con_autoenc.encoder(test_set.data.unsqueeze(1),False)"
   ]
  },
  {
   "cell_type": "code",
   "execution_count": 54,
   "id": "0c7929e9",
   "metadata": {},
   "outputs": [],
   "source": [
    "loss_perceptron = nn.CrossEntropyLoss()\n",
    "accuracies_perceptron = []\n",
    "\n",
    "for epsilon in epsilon_values:\n",
    "    accuracy= test_robustness_to_attack(perceptron, loss_perceptron, encoded_test_set,\n",
    "                                        test_set.targets.unsqueeze(1), epsilon, False)\n",
    "    accuracies_perceptron.append(accuracy)\n"
   ]
  },
  {
   "cell_type": "code",
   "execution_count": 55,
   "id": "99411e07",
   "metadata": {},
   "outputs": [
    {
     "data": {
      "image/png": "[encoded data removed]",
      "text/plain": [
       "<Figure size 432x288 with 1 Axes>"
      ]
     },
     "metadata": {
      "needs_background": "light"
     },
     "output_type": "display_data"
    }
   ],
   "source": [
    "fig, ax = plt.subplots(1, 1, figsize=(6,4), sharey=True)\n",
    "\n",
    "__ = ax.plot(epsilon_values, accuracies_ffnn)\n",
    "__ = ax.plot(epsilon_values, accuracies_perceptron)\n",
    "__ = ax.set_xlabel(\"$\\epsilon$\")\n",
    "__ = ax.set_ylabel(\"Accuracy\")\n",
    "__ = ax.set_title(\"Robustness to adversarial attacks\")\n",
    "__ = ax.legend([\"FFNN\", \"Perceptron\"])"
   ]
  },
  {
   "cell_type": "code",
   "execution_count": null,
   "id": "1acf011f",
   "metadata": {},
   "outputs": [],
   "source": []
  }
 ],
 "metadata": {
  "accelerator": "GPU",
  "colab": {
   "name": "Project.ipynb",
   "provenance": []
  },
  "kernelspec": {
   "display_name": "Python 3 (ipykernel)",
   "language": "python",
   "name": "python3"
  },
  "language_info": {
   "codemirror_mode": {
    "name": "ipython",
    "version": 3
   },
   "file_extension": ".py",
   "mimetype": "text/x-python",
   "name": "python",
   "nbconvert_exporter": "python",
   "pygments_lexer": "ipython3",
   "version": "3.8.12"
  }
 },
 "nbformat": 4,
 "nbformat_minor": 5
}
